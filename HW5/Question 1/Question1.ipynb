{
  "cells": [
    {
      "cell_type": "code",
      "execution_count": null,
      "metadata": {
        "id": "NZkmnsDVRRPo"
      },
      "outputs": [],
      "source": [
        "#Gently and friendly reminder: please do NOT use the code that is all over the internet :)"
      ]
    },
    {
      "cell_type": "code",
      "execution_count": null,
      "metadata": {
        "id": "U7yfbfrvyEwm"
      },
      "outputs": [],
      "source": [
        "import tiles3 as tc\n",
        "import gym"
      ]
    },
    {
      "cell_type": "code",
      "execution_count": null,
      "metadata": {},
      "outputs": [],
      "source": [
        "env = gym.make('MountainCar-v0')"
      ]
    },
    {
      "cell_type": "code",
      "execution_count": null,
      "metadata": {
        "id": "rxnM5VdIyv_s"
      },
      "outputs": [],
      "source": [
        "# Tile Coding Function\n",
        "class MountainCarTileCoder:\n",
        "    def __init__(self, iht_size, num_tilings, num_tiles, pos_max, pos_min, v_max, v_min):\n",
        "        \"\"\"\n",
        "        Initializes the MountainCar Tile Coder\n",
        "        *Initializers:\n",
        "        iht_size(int): the size of the index hash table, typically a power of 2. 4096 in this question.\n",
        "        num_tilings(int): the number of tilings\n",
        "        num_tiles(int: the number of tiles. Here both the width and height of the tile coder are the same\n",
        "\n",
        "        *Class Variables:\n",
        "        self.iht(tc.IHT): the index hash table that the tile coder will use, better understood after reviewing the link provided in the question\n",
        "        self.num_tilings(int): the number of tilings the tile coder will use\n",
        "        self.num_tiles(int): the number of tiles the tile coder will use\n",
        "        \"\"\"\n",
        "        self.iht = tc.IHT(iht_size)\n",
        "        self.num_tilings = num_tilings\n",
        "        self.num_tiles = num_tiles\n",
        "        self.pos_max = pos_max\n",
        "        self.pos_min = pos_min\n",
        "        self.v_max = v_max\n",
        "        self.v_min = v_min \n",
        "        self.position_tile_scale = self.num_tiles/(self.pos_max - self.pos_min)\n",
        "        self.velocity_tile_scale = self.num_tiles/(self.v_max - self.v_min)\n",
        "    \n",
        "    def get_tiles(self, position, velocity):\n",
        "        \"\"\"\n",
        "        Takes in a position and velocity from the mountaincar environment\n",
        "        and returns a numpy array of active tiles.\n",
        "        \n",
        "        Arguments:\n",
        "        position(float): the position of the agent \n",
        "        velocity(float): the velocity of the agent \n",
        "        returns:\n",
        "        tiles - np.array, active tiles\n",
        "        \"\"\"\n",
        "        \n",
        "        # Scale position and velocity by multiplying the inputs of each by their scale\n",
        "        velocity_scaled = velocity * self.velocity_tile_scale\n",
        "        position_scaled = position * self.position_tile_scale\n",
        "\n",
        "        # get the tiles using tc.tiles, with self.iht, self.num_tilings and [scaled position, scaled velocity]\n",
        "        tiles_list = tc.tiles(self.iht, self.num_tilings, [position_scaled, velocity_scaled])\n",
        "        \n",
        "        return np.array(tiles_list)"
      ]
    }
  ],
  "metadata": {
    "colab": {
      "collapsed_sections": [],
      "name": "Question1.ipynb",
      "provenance": []
    },
    "kernelspec": {
      "display_name": "Python 3",
      "name": "python3"
    },
    "language_info": {
      "name": "python"
    }
  },
  "nbformat": 4,
  "nbformat_minor": 0
}
