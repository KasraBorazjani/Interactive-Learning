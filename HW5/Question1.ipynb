{
  "nbformat": 4,
  "nbformat_minor": 0,
  "metadata": {
    "colab": {
      "name": "Question1.ipynb",
      "provenance": [],
      "collapsed_sections": []
    },
    "kernelspec": {
      "name": "python3",
      "display_name": "Python 3"
    },
    "language_info": {
      "name": "python"
    }
  },
  "cells": [
    {
      "cell_type": "code",
      "source": [
        "#Gently and friendly reminder: please do NOT use the code that is all over the internet :)"
      ],
      "metadata": {
        "id": "NZkmnsDVRRPo"
      },
      "execution_count": null,
      "outputs": []
    },
    {
      "cell_type": "code",
      "execution_count": null,
      "metadata": {
        "id": "U7yfbfrvyEwm"
      },
      "outputs": [],
      "source": [
        "import tiles3 as tc\n",
        "import mountaincar_env"
      ]
    },
    {
      "cell_type": "code",
      "source": [
        "# Tile Coding Function\n",
        "class MountainCarTileCoder:\n",
        "    def __init__(self, iht_size, num_tilings, num_tiles):\n",
        "        \"\"\"\n",
        "        Initializes the MountainCar Tile Coder\n",
        "        *Initializers:\n",
        "        iht_size(int): the size of the index hash table, typically a power of 2. 4096 in this question.\n",
        "        num_tilings(int): the number of tilings\n",
        "        num_tiles(int: the number of tiles. Here both the width and height of the tile coder are the same\n",
        "\n",
        "        *Class Variables:\n",
        "        self.iht(tc.IHT): the index hash table that the tile coder will use, better understood after reviewing the link provided in the question\n",
        "        self.num_tilings(int): the number of tilings the tile coder will use\n",
        "        self.num_tiles(int): the number of tiles the tile coder will use\n",
        "        \"\"\"\n",
        "        self.iht = tc.IHT(iht_size)\n",
        "        self.num_tilings = num_tilings\n",
        "        self.num_tiles = num_tiles\n",
        "    \n",
        "    def get_tiles(self, position, velocity):\n",
        "        \"\"\"\n",
        "        Takes in a position and velocity from the mountaincar environment\n",
        "        and returns a numpy array of active tiles.\n",
        "        \n",
        "        Arguments:\n",
        "        position(float): the position of the agent \n",
        "        velocity(float): the velocity of the agent \n",
        "        returns:\n",
        "        tiles - np.array, active tiles\n",
        "        \"\"\"\n",
        "        # Set the max and min of position and velocity to scale the input     \n",
        "        # Use the ranges above and self.num_tiles to set position_scale and velocity_scale\n",
        "        # Scale position and velocity by multiplying the inputs of each by their scale\n",
        "        # get the tiles using tc.tiles, with self.iht, self.num_tilings and [scaled position, scaled velocity]\n",
        "        \n",
        "        return np.array(tiles)"
      ],
      "metadata": {
        "id": "rxnM5VdIyv_s"
      },
      "execution_count": null,
      "outputs": []
    }
  ]
}